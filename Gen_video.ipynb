{
 "cells": [
  {
   "cell_type": "code",
   "execution_count": null,
   "id": "fc4262cc-99d8-434e-abd2-edaac472ef45",
   "metadata": {},
   "outputs": [],
   "source": "import cv2\nimport librosa\nimport librosa.display\nimport matplotlib.pyplot as plt\nimport numpy as np\nfrom moviepy.editor import AudioFileClip, concatenate_videoclips, TextClip, CompositeVideoClip, VideoFileClip, ImageClip\nimport os\n\n# Use relative path that works across environments\naudio_file = 'bark_generation.wav'\nif not os.path.exists(audio_file):\n    audio_file = 'bark_generation_female.wav'\n\nif not os.path.exists(audio_file):\n    print(f\"Error: Audio file not found. Please run bark_ai.ipynb first to generate audio files.\")\n    exit(1)\n\ntry:\n    # Load audio file\n    y, sr = librosa.load(audio_file, sr=44100)\n\n    # Compute mel spectrogram\n    S = librosa.feature.melspectrogram(y=y, sr=sr, n_mels=128, fmax=8000)\n    S_dB = librosa.power_to_db(S, ref=np.max)\n\n    # Generate spectrogram visualization\n    fig, ax = plt.subplots(figsize=(12, 4))\n    img = librosa.display.specshow(S_dB, x_axis='time', y_axis='mel', sr=sr, ax=ax)\n    fig.canvas.draw()\n\n    # Extract the image and create a VideoClip object from it\n    spectrogram = np.frombuffer(fig.canvas.tostring_rgb(), dtype=np.uint8)\n    spectrogram = spectrogram.reshape(fig.canvas.get_width_height()[::-1] + (3,))\n    spectrogram_clip = ImageClip(spectrogram, duration=librosa.get_duration(y))\n\n    # Generate waveform visualization\n    fig, ax = plt.subplots(figsize=(12, 4))\n    librosa.display.waveform(y, sr=sr, ax=ax)\n    fig.canvas.draw()\n\n    # Extract the image and create a VideoClip object from it\n    waveform = np.frombuffer(fig.canvas.tostring_rgb(), dtype=np.uint8)\n    waveform = waveform.reshape(fig.canvas.get_width_height()[::-1] + (3,))\n    waveform_clip = ImageClip(waveform, duration=librosa.get_duration(y))\n\n    # Create a simple colored background instead of requiring silent.mp4\n    from moviepy.editor import ColorClip\n    background_clip = ColorClip(size=(640, 480), color=(0, 0, 0), duration=librosa.get_duration(y))\n\n    # Combine the background with the spectrogram and waveform clips\n    final_clip = CompositeVideoClip([background_clip, spectrogram_clip.set_position('center')])\n    final_clip = final_clip.set_audio(AudioFileClip(audio_file))\n\n    # Write the final clip to a video file\n    final_clip.write_videofile('podcast_visualizer.mp4', audio_codec='aac')\n    print(\"Video generated successfully: podcast_visualizer.mp4\")\n\nexcept Exception as e:\n    print(f\"Error generating video: {str(e)}\")\n    print(\"Make sure all required dependencies are installed and audio files exist.\")"
  },
  {
   "cell_type": "code",
   "execution_count": 6,
   "id": "6ded42d2-649b-4798-9829-640f29b91bb0",
   "metadata": {},
   "outputs": [
    {
     "name": "stdout",
     "output_type": "stream",
     "text": [
      "Requirement already satisfied: moviepy in /usr/local/lib/python3.9/dist-packages (1.0.3)\n",
      "Requirement already satisfied: librosa in /usr/local/lib/python3.9/dist-packages (0.10.0.post2)\n",
      "Requirement already satisfied: numpy in /usr/local/lib/python3.9/dist-packages (1.23.4)\n",
      "Requirement already satisfied: matplotlib in /usr/local/lib/python3.9/dist-packages (3.6.1)\n",
      "Requirement already satisfied: imageio<3.0,>=2.5 in /usr/local/lib/python3.9/dist-packages (from moviepy) (2.25.0)\n",
      "Requirement already satisfied: decorator<5.0,>=4.0.2 in /usr/local/lib/python3.9/dist-packages (from moviepy) (4.4.2)\n",
      "Requirement already satisfied: proglog<=1.0.0 in /usr/local/lib/python3.9/dist-packages (from moviepy) (0.1.10)\n",
      "Requirement already satisfied: tqdm<5.0,>=4.11.2 in /usr/local/lib/python3.9/dist-packages (from moviepy) (4.64.1)\n",
      "Requirement already satisfied: requests<3.0,>=2.8.1 in /usr/local/lib/python3.9/dist-packages (from moviepy) (2.28.2)\n",
      "Requirement already satisfied: imageio-ffmpeg>=0.2.0 in /usr/local/lib/python3.9/dist-packages (from moviepy) (0.4.8)\n",
      "Requirement already satisfied: pooch<1.7,>=1.0 in /usr/local/lib/python3.9/dist-packages (from librosa) (1.6.0)\n",
      "Requirement already satisfied: soxr>=0.3.2 in /usr/local/lib/python3.9/dist-packages (from librosa) (0.3.5)\n",
      "Requirement already satisfied: scipy>=1.2.0 in /usr/local/lib/python3.9/dist-packages (from librosa) (1.9.2)\n",
      "Requirement already satisfied: lazy-loader>=0.1 in /usr/local/lib/python3.9/dist-packages (from librosa) (0.2)\n",
      "Requirement already satisfied: scikit-learn>=0.20.0 in /usr/local/lib/python3.9/dist-packages (from librosa) (1.1.2)\n",
      "Requirement already satisfied: numba>=0.51.0 in /usr/local/lib/python3.9/dist-packages (from librosa) (0.57.0)\n",
      "Requirement already satisfied: soundfile>=0.12.1 in /usr/local/lib/python3.9/dist-packages (from librosa) (0.12.1)\n",
      "Requirement already satisfied: msgpack>=1.0 in /usr/local/lib/python3.9/dist-packages (from librosa) (1.0.4)\n",
      "Requirement already satisfied: audioread>=2.1.9 in /usr/local/lib/python3.9/dist-packages (from librosa) (3.0.0)\n",
      "Requirement already satisfied: typing-extensions>=4.1.1 in /usr/local/lib/python3.9/dist-packages (from librosa) (4.4.0)\n",
      "Requirement already satisfied: joblib>=0.14 in /usr/local/lib/python3.9/dist-packages (from librosa) (1.2.0)\n",
      "Requirement already satisfied: packaging>=20.0 in /usr/local/lib/python3.9/dist-packages (from matplotlib) (23.0)\n",
      "Requirement already satisfied: pillow>=6.2.0 in /usr/local/lib/python3.9/dist-packages (from matplotlib) (9.2.0)\n",
      "Requirement already satisfied: pyparsing>=2.2.1 in /usr/local/lib/python3.9/dist-packages (from matplotlib) (3.0.9)\n",
      "Requirement already satisfied: python-dateutil>=2.7 in /usr/local/lib/python3.9/dist-packages (from matplotlib) (2.8.2)\n",
      "Requirement already satisfied: kiwisolver>=1.0.1 in /usr/local/lib/python3.9/dist-packages (from matplotlib) (1.4.4)\n",
      "Requirement already satisfied: contourpy>=1.0.1 in /usr/local/lib/python3.9/dist-packages (from matplotlib) (1.0.7)\n",
      "Requirement already satisfied: cycler>=0.10 in /usr/local/lib/python3.9/dist-packages (from matplotlib) (0.11.0)\n",
      "Requirement already satisfied: fonttools>=4.22.0 in /usr/local/lib/python3.9/dist-packages (from matplotlib) (4.38.0)\n",
      "Requirement already satisfied: llvmlite<0.41,>=0.40.0dev0 in /usr/local/lib/python3.9/dist-packages (from numba>=0.51.0->librosa) (0.40.0)\n",
      "Requirement already satisfied: appdirs>=1.3.0 in /usr/local/lib/python3.9/dist-packages (from pooch<1.7,>=1.0->librosa) (1.4.4)\n",
      "Requirement already satisfied: six>=1.5 in /usr/lib/python3/dist-packages (from python-dateutil>=2.7->matplotlib) (1.14.0)\n",
      "Requirement already satisfied: charset-normalizer<4,>=2 in /usr/local/lib/python3.9/dist-packages (from requests<3.0,>=2.8.1->moviepy) (2.1.1)\n",
      "Requirement already satisfied: idna<4,>=2.5 in /usr/lib/python3/dist-packages (from requests<3.0,>=2.8.1->moviepy) (2.8)\n",
      "Requirement already satisfied: urllib3<1.27,>=1.21.1 in /usr/local/lib/python3.9/dist-packages (from requests<3.0,>=2.8.1->moviepy) (1.26.14)\n",
      "Requirement already satisfied: certifi>=2017.4.17 in /usr/lib/python3/dist-packages (from requests<3.0,>=2.8.1->moviepy) (2019.11.28)\n",
      "Requirement already satisfied: threadpoolctl>=2.0.0 in /usr/local/lib/python3.9/dist-packages (from scikit-learn>=0.20.0->librosa) (3.1.0)\n",
      "Requirement already satisfied: cffi>=1.0 in /usr/local/lib/python3.9/dist-packages (from soundfile>=0.12.1->librosa) (1.15.1)\n",
      "Requirement already satisfied: pycparser in /usr/local/lib/python3.9/dist-packages (from cffi>=1.0->soundfile>=0.12.1->librosa) (2.21)\n",
      "\u001b[33mWARNING: Running pip as the 'root' user can result in broken permissions and conflicting behaviour with the system package manager. It is recommended to use a virtual environment instead: https://pip.pypa.io/warnings/venv\u001b[0m\u001b[33m\n",
      "\u001b[0mRequirement already satisfied: opencv-python in /usr/local/lib/python3.9/dist-packages (4.6.0.66)\n",
      "Requirement already satisfied: numpy>=1.14.5 in /usr/local/lib/python3.9/dist-packages (from opencv-python) (1.23.4)\n",
      "\u001b[33mWARNING: Running pip as the 'root' user can result in broken permissions and conflicting behaviour with the system package manager. It is recommended to use a virtual environment instead: https://pip.pypa.io/warnings/venv\u001b[0m\u001b[33m\n",
      "\u001b[0m"
     ]
    }
   ],
   "source": [
    "!pip install moviepy librosa numpy matplotlib\n",
    "!pip install opencv-python"
   ]
  }
 ],
 "metadata": {
  "kernelspec": {
   "display_name": "Python 3 (ipykernel)",
   "language": "python",
   "name": "python3"
  },
  "language_info": {
   "codemirror_mode": {
    "name": "ipython",
    "version": 3
   },
   "file_extension": ".py",
   "mimetype": "text/x-python",
   "name": "python",
   "nbconvert_exporter": "python",
   "pygments_lexer": "ipython3",
   "version": "3.11.4"
  }
 },
 "nbformat": 4,
 "nbformat_minor": 5
}