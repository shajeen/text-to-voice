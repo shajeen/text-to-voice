{
 "cells": [
  {
   "cell_type": "code",
   "execution_count": 12,
   "id": "fc4262cc-99d8-434e-abd2-edaac472ef45",
   "metadata": {},
   "outputs": [
    {
     "ename": "AttributeError",
     "evalue": "module 'librosa.display' has no attribute 'waveplot'",
     "output_type": "error",
     "traceback": [
      "\u001b[0;31m---------------------------------------------------------------------------\u001b[0m",
      "\u001b[0;31mAttributeError\u001b[0m                            Traceback (most recent call last)",
      "Cell \u001b[0;32mIn [12], line 39\u001b[0m\n\u001b[1;32m     37\u001b[0m waveform_ax\u001b[38;5;241m.\u001b[39mset_xlim([\u001b[38;5;241m0\u001b[39m, \u001b[38;5;28mlen\u001b[39m(waveform)])\n\u001b[1;32m     38\u001b[0m waveform_ax\u001b[38;5;241m.\u001b[39mset_ylim([\u001b[38;5;241m-\u001b[39m\u001b[38;5;241m2\u001b[39m \u001b[38;5;241m*\u001b[39m\u001b[38;5;241m*\u001b[39m \u001b[38;5;241m15\u001b[39m, \u001b[38;5;241m2\u001b[39m \u001b[38;5;241m*\u001b[39m\u001b[38;5;241m*\u001b[39m \u001b[38;5;241m15\u001b[39m])\n\u001b[0;32m---> 39\u001b[0m \u001b[43mlibrosa\u001b[49m\u001b[38;5;241;43m.\u001b[39;49m\u001b[43mdisplay\u001b[49m\u001b[38;5;241;43m.\u001b[39;49m\u001b[43mwaveplot\u001b[49m(y[:i \u001b[38;5;241m*\u001b[39m sr \u001b[38;5;241m/\u001b[39m\u001b[38;5;241m/\u001b[39m fps], sr\u001b[38;5;241m=\u001b[39msr, ax\u001b[38;5;241m=\u001b[39mwaveform_ax, color\u001b[38;5;241m=\u001b[39m\u001b[38;5;124m'\u001b[39m\u001b[38;5;124mb\u001b[39m\u001b[38;5;124m'\u001b[39m, alpha\u001b[38;5;241m=\u001b[39m\u001b[38;5;241m0.4\u001b[39m)\n\u001b[1;32m     40\u001b[0m waveform_ax\u001b[38;5;241m.\u001b[39mplot(np\u001b[38;5;241m.\u001b[39marange(\u001b[38;5;28mlen\u001b[39m(amplitude)) \u001b[38;5;241m*\u001b[39m sr \u001b[38;5;241m/\u001b[39m \u001b[38;5;241m2048\u001b[39m, amplitude, color\u001b[38;5;241m=\u001b[39m\u001b[38;5;124m'\u001b[39m\u001b[38;5;124mr\u001b[39m\u001b[38;5;124m'\u001b[39m, linewidth\u001b[38;5;241m=\u001b[39m\u001b[38;5;241m1.5\u001b[39m)\n\u001b[1;32m     41\u001b[0m waveform_fig\u001b[38;5;241m.\u001b[39mcanvas\u001b[38;5;241m.\u001b[39mdraw()\n",
      "\u001b[0;31mAttributeError\u001b[0m: module 'librosa.display' has no attribute 'waveplot'"
     ]
    },
    {
     "data": {
      "image/png": "[encoded data removed]",
      "text/plain": [
       "<Figure size 400x200 with 1 Axes>"
      ]
     },
     "metadata": {},
     "output_type": "display_data"
    }
   ],
   "source": [
    "import librosa\n",
    "import librosa.display\n",
    "import numpy as np\n",
    "from moviepy.editor import *\n",
    "import cv2\n",
    "\n",
    "# Load audio file\n",
    "audio_file = \"/notebooks/text-to-voice/bark_generation.wav\"\n",
    "y, sr = librosa.load(audio_file)\n",
    "\n",
    "# Set the frame rate and duration of the output video\n",
    "fps = 30\n",
    "duration = librosa.get_duration(y=y, sr=sr)\n",
    "\n",
    "# Create a numpy array representing the waveform\n",
    "waveform = np.int16(y * (2 ** 15))\n",
    "\n",
    "# Set the width and height of the video\n",
    "width = 640\n",
    "height = 480\n",
    "\n",
    "# Create the video file\n",
    "video_file = \"podcast_visualizer.mp4\"\n",
    "fourcc = cv2.VideoWriter_fourcc(*\"mp4v\")\n",
    "video = cv2.VideoWriter(video_file, fourcc, fps, (width, height))\n",
    "\n",
    "# Iterate through each frame of the video\n",
    "for i in range(int(fps * duration)):\n",
    "    # Get the audio amplitude at this point in time\n",
    "    t = librosa.frames_to_time(i, sr=sr, hop_length=512, n_fft=2048)\n",
    "    amplitude = np.abs(librosa.stft(y, hop_length=512, n_fft=2048)[:, i])\n",
    "\n",
    "    # Create the waveform visualization\n",
    "    waveform_fig, waveform_ax = plt.subplots(figsize=(4, 2))\n",
    "    waveform_ax.set_xticks([])\n",
    "    waveform_ax.set_yticks([])\n",
    "    waveform_ax.set_xlim([0, len(waveform)])\n",
    "    waveform_ax.set_ylim([-2 ** 15, 2 ** 15])\n",
    "    librosa.display.waveplot(y[:i * sr // fps], sr=sr, ax=waveform_ax, color='b', alpha=0.4)\n",
    "    waveform_ax.plot(np.arange(len(amplitude)) * sr / 2048, amplitude, color='r', linewidth=1.5)\n",
    "    waveform_fig.canvas.draw()\n",
    "\n",
    "    # Convert the waveform plot to an OpenCV image\n",
    "    waveform_img = np.array(waveform_fig.canvas.renderer.buffer_rgba())\n",
    "    waveform_img = cv2.cvtColor(waveform_img, cv2.COLOR_RGBA2BGR)\n",
    "    waveform_img = cv2.resize(waveform_img, (width // 2, height // 2))\n",
    "\n",
    "    # Create the final frame by combining the waveform plot and the audio waveform\n",
    "    frame = np.zeros((height, width, 3), dtype=np.uint8)\n",
    "    frame[height // 4:3 * height // 4, width // 4:3 * width // 4, :] = waveform_img\n",
    "    frame[3 * height // 4 + 50:, :, :] = np.tile(waveform, (height // 4 - 50, 1, 3)).transpose((1, 0, 2))\n",
    "\n",
    "    # Write the frame to the video file\n",
    "    video.write(frame)\n",
    "\n",
    "# Release the video file\n",
    "video.release()\n"
   ]
  },
  {
   "cell_type": "code",
   "execution_count": 6,
   "id": "6ded42d2-649b-4798-9829-640f29b91bb0",
   "metadata": {},
   "outputs": [
    {
     "name": "stdout",
     "output_type": "stream",
     "text": [
      "Requirement already satisfied: moviepy in /usr/local/lib/python3.9/dist-packages (1.0.3)\n",
      "Requirement already satisfied: librosa in /usr/local/lib/python3.9/dist-packages (0.10.0.post2)\n",
      "Requirement already satisfied: numpy in /usr/local/lib/python3.9/dist-packages (1.23.4)\n",
      "Requirement already satisfied: matplotlib in /usr/local/lib/python3.9/dist-packages (3.6.1)\n",
      "Requirement already satisfied: imageio<3.0,>=2.5 in /usr/local/lib/python3.9/dist-packages (from moviepy) (2.25.0)\n",
      "Requirement already satisfied: decorator<5.0,>=4.0.2 in /usr/local/lib/python3.9/dist-packages (from moviepy) (4.4.2)\n",
      "Requirement already satisfied: proglog<=1.0.0 in /usr/local/lib/python3.9/dist-packages (from moviepy) (0.1.10)\n",
      "Requirement already satisfied: tqdm<5.0,>=4.11.2 in /usr/local/lib/python3.9/dist-packages (from moviepy) (4.64.1)\n",
      "Requirement already satisfied: requests<3.0,>=2.8.1 in /usr/local/lib/python3.9/dist-packages (from moviepy) (2.28.2)\n",
      "Requirement already satisfied: imageio-ffmpeg>=0.2.0 in /usr/local/lib/python3.9/dist-packages (from moviepy) (0.4.8)\n",
      "Requirement already satisfied: pooch<1.7,>=1.0 in /usr/local/lib/python3.9/dist-packages (from librosa) (1.6.0)\n",
      "Requirement already satisfied: soxr>=0.3.2 in /usr/local/lib/python3.9/dist-packages (from librosa) (0.3.5)\n",
      "Requirement already satisfied: scipy>=1.2.0 in /usr/local/lib/python3.9/dist-packages (from librosa) (1.9.2)\n",
      "Requirement already satisfied: lazy-loader>=0.1 in /usr/local/lib/python3.9/dist-packages (from librosa) (0.2)\n",
      "Requirement already satisfied: scikit-learn>=0.20.0 in /usr/local/lib/python3.9/dist-packages (from librosa) (1.1.2)\n",
      "Requirement already satisfied: numba>=0.51.0 in /usr/local/lib/python3.9/dist-packages (from librosa) (0.57.0)\n",
      "Requirement already satisfied: soundfile>=0.12.1 in /usr/local/lib/python3.9/dist-packages (from librosa) (0.12.1)\n",
      "Requirement already satisfied: msgpack>=1.0 in /usr/local/lib/python3.9/dist-packages (from librosa) (1.0.4)\n",
      "Requirement already satisfied: audioread>=2.1.9 in /usr/local/lib/python3.9/dist-packages (from librosa) (3.0.0)\n",
      "Requirement already satisfied: typing-extensions>=4.1.1 in /usr/local/lib/python3.9/dist-packages (from librosa) (4.4.0)\n",
      "Requirement already satisfied: joblib>=0.14 in /usr/local/lib/python3.9/dist-packages (from librosa) (1.2.0)\n",
      "Requirement already satisfied: packaging>=20.0 in /usr/local/lib/python3.9/dist-packages (from matplotlib) (23.0)\n",
      "Requirement already satisfied: pillow>=6.2.0 in /usr/local/lib/python3.9/dist-packages (from matplotlib) (9.2.0)\n",
      "Requirement already satisfied: pyparsing>=2.2.1 in /usr/local/lib/python3.9/dist-packages (from matplotlib) (3.0.9)\n",
      "Requirement already satisfied: python-dateutil>=2.7 in /usr/local/lib/python3.9/dist-packages (from matplotlib) (2.8.2)\n",
      "Requirement already satisfied: kiwisolver>=1.0.1 in /usr/local/lib/python3.9/dist-packages (from matplotlib) (1.4.4)\n",
      "Requirement already satisfied: contourpy>=1.0.1 in /usr/local/lib/python3.9/dist-packages (from matplotlib) (1.0.7)\n",
      "Requirement already satisfied: cycler>=0.10 in /usr/local/lib/python3.9/dist-packages (from matplotlib) (0.11.0)\n",
      "Requirement already satisfied: fonttools>=4.22.0 in /usr/local/lib/python3.9/dist-packages (from matplotlib) (4.38.0)\n",
      "Requirement already satisfied: llvmlite<0.41,>=0.40.0dev0 in /usr/local/lib/python3.9/dist-packages (from numba>=0.51.0->librosa) (0.40.0)\n",
      "Requirement already satisfied: appdirs>=1.3.0 in /usr/local/lib/python3.9/dist-packages (from pooch<1.7,>=1.0->librosa) (1.4.4)\n",
      "Requirement already satisfied: six>=1.5 in /usr/lib/python3/dist-packages (from python-dateutil>=2.7->matplotlib) (1.14.0)\n",
      "Requirement already satisfied: charset-normalizer<4,>=2 in /usr/local/lib/python3.9/dist-packages (from requests<3.0,>=2.8.1->moviepy) (2.1.1)\n",
      "Requirement already satisfied: idna<4,>=2.5 in /usr/lib/python3/dist-packages (from requests<3.0,>=2.8.1->moviepy) (2.8)\n",
      "Requirement already satisfied: urllib3<1.27,>=1.21.1 in /usr/local/lib/python3.9/dist-packages (from requests<3.0,>=2.8.1->moviepy) (1.26.14)\n",
      "Requirement already satisfied: certifi>=2017.4.17 in /usr/lib/python3/dist-packages (from requests<3.0,>=2.8.1->moviepy) (2019.11.28)\n",
      "Requirement already satisfied: threadpoolctl>=2.0.0 in /usr/local/lib/python3.9/dist-packages (from scikit-learn>=0.20.0->librosa) (3.1.0)\n",
      "Requirement already satisfied: cffi>=1.0 in /usr/local/lib/python3.9/dist-packages (from soundfile>=0.12.1->librosa) (1.15.1)\n",
      "Requirement already satisfied: pycparser in /usr/local/lib/python3.9/dist-packages (from cffi>=1.0->soundfile>=0.12.1->librosa) (2.21)\n",
      "\u001b[33mWARNING: Running pip as the 'root' user can result in broken permissions and conflicting behaviour with the system package manager. It is recommended to use a virtual environment instead: https://pip.pypa.io/warnings/venv\u001b[0m\u001b[33m\n",
      "\u001b[0mRequirement already satisfied: opencv-python in /usr/local/lib/python3.9/dist-packages (4.6.0.66)\n",
      "Requirement already satisfied: numpy>=1.14.5 in /usr/local/lib/python3.9/dist-packages (from opencv-python) (1.23.4)\n",
      "\u001b[33mWARNING: Running pip as the 'root' user can result in broken permissions and conflicting behaviour with the system package manager. It is recommended to use a virtual environment instead: https://pip.pypa.io/warnings/venv\u001b[0m\u001b[33m\n",
      "\u001b[0m"
     ]
    }
   ],
   "source": [
    "!pip install moviepy librosa numpy matplotlib\n",
    "!pip install opencv-python"
   ]
  }
 ],
 "metadata": {
  "kernelspec": {
   "display_name": "Python 3 (ipykernel)",
   "language": "python",
   "name": "python3"
  },
  "language_info": {
   "codemirror_mode": {
    "name": "ipython",
    "version": 3
   },
   "file_extension": ".py",
   "mimetype": "text/x-python",
   "name": "python",
   "nbconvert_exporter": "python",
   "pygments_lexer": "ipython3",
   "version": "3.9.16"
  }
 },
 "nbformat": 4,
 "nbformat_minor": 5
}
